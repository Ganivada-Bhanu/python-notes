{
  "nbformat": 4,
  "nbformat_minor": 0,
  "metadata": {
    "colab": {
      "name": "ifelse_codes.ipynb",
      "provenance": []
    },
    "kernelspec": {
      "name": "python3",
      "display_name": "Python 3"
    },
    "language_info": {
      "name": "python"
    }
  },
  "cells": [
    {
      "cell_type": "code",
      "source": [
        "numbers11=20\n",
        "if numbers11==4:\n",
        "  print(\"number is matched\")\n",
        "else:\n",
        "  print(\"number is not matched\")"
      ],
      "metadata": {
        "colab": {
          "base_uri": "https://localhost:8080/"
        },
        "id": "OzJdZ0jXKg9G",
        "outputId": "4e6b8f0f-3a51-4e03-a98f-de6294b42f6b"
      },
      "execution_count": null,
      "outputs": [
        {
          "output_type": "stream",
          "name": "stdout",
          "text": [
            "number is not matched\n"
          ]
        }
      ]
    },
    {
      "cell_type": "code",
      "source": [
        "# given number is even or not\n",
        "numberss=int(input('enter the number:'))\n",
        "if numberss%2==0:\n",
        "  print('number is even')\n",
        "else:\n",
        "  print('number is odd')"
      ],
      "metadata": {
        "colab": {
          "base_uri": "https://localhost:8080/"
        },
        "id": "6JGaeX5EKtP3",
        "outputId": "706aa3db-eacb-474c-8b65-cc6f80e34fca"
      },
      "execution_count": null,
      "outputs": [
        {
          "output_type": "stream",
          "name": "stdout",
          "text": [
            "enter the number:2\n",
            "number is even\n"
          ]
        }
      ]
    },
    {
      "cell_type": "code",
      "source": [
        "# electric bill\n",
        "electric_bill=int(input('enter the amount:'))\n",
        "if electric_bill<=500:\n",
        "  print('total bill to be paid:',electric_bill)\n",
        "else:\n",
        "  electric_bill+=1000\n",
        "  print('total billtoo be paid:',electric_bill)"
      ],
      "metadata": {
        "colab": {
          "base_uri": "https://localhost:8080/"
        },
        "id": "2n_T6ShFKzNd",
        "outputId": "b7ef97cd-687f-4aca-b918-bf221e9754ec"
      },
      "execution_count": null,
      "outputs": [
        {
          "output_type": "stream",
          "name": "stdout",
          "text": [
            "enter the amount:700\n",
            "total billtoo be paid: 1700\n"
          ]
        }
      ]
    },
    {
      "cell_type": "code",
      "source": [
        "# if the number is divisible by both 3&5 o/p is fun and gun, if divisible by 3 o/p is fun, if divisible by 5 o/p gun\n",
        "number222=int(input('enter the number:'))\n",
        "if number222%3==0 and number222%5==0:\n",
        "  print('fun and gun')\n",
        "elif number222%3==0:\n",
        "  print('fun')\n",
        "elif number222%5==0:\n",
        "  print('gun')\n",
        "else:\n",
        "  print('not fun and gun')"
      ],
      "metadata": {
        "colab": {
          "base_uri": "https://localhost:8080/"
        },
        "id": "lJZlatCbLTaX",
        "outputId": "33531cf8-bbbb-4160-eb59-99ba825a3c26"
      },
      "execution_count": null,
      "outputs": [
        {
          "output_type": "stream",
          "name": "stdout",
          "text": [
            "enter the number:15\n",
            "fun and gun\n"
          ]
        }
      ]
    },
    {
      "cell_type": "code",
      "source": [
        "# number must be grater than zero and to check even or odd\n",
        "num=int(input('enter the number:'))\n",
        "if num>0:\n",
        "  if num%2==0:\n",
        "    print('even')\n",
        "  else:\n",
        "    print('odd')\n",
        "else:\n",
        "  print('number is not more than zero')"
      ],
      "metadata": {
        "colab": {
          "base_uri": "https://localhost:8080/"
        },
        "id": "dprPkJD_L08O",
        "outputId": "d91758fd-873d-4a19-f0bf-6119c49467cf"
      },
      "execution_count": null,
      "outputs": [
        {
          "output_type": "stream",
          "name": "stdout",
          "text": [
            "enter the number:6\n",
            "even\n"
          ]
        }
      ]
    },
    {
      "cell_type": "code",
      "source": [
        "# leap year\n",
        "num=int(input('enter the year:'))\n",
        "if num%4==0 or num%400==0 and num%100!=0:\n",
        "  print('leap year')\n",
        "else:\n",
        "  print('not a leap year')"
      ],
      "metadata": {
        "colab": {
          "base_uri": "https://localhost:8080/"
        },
        "id": "zGDqzs-dMHCb",
        "outputId": "5b574957-7214-4fe9-f76d-5cc706d41766"
      },
      "execution_count": null,
      "outputs": [
        {
          "output_type": "stream",
          "name": "stdout",
          "text": [
            "enter the year:2024\n",
            "leap year\n"
          ]
        }
      ]
    },
    {
      "cell_type": "code",
      "source": [
        "#eligible for voting or not\n",
        "age=int(input('enter the age:'))\n",
        "if age>=18:\n",
        "  print('person is eligible for voting')\n",
        "else:\n",
        "  print('person is not eligible for voting')"
      ],
      "metadata": {
        "colab": {
          "base_uri": "https://localhost:8080/"
        },
        "id": "ik7KUaj9yN1W",
        "outputId": "3b2cfbdb-48be-447a-d568-7bd09a692e4f"
      },
      "execution_count": null,
      "outputs": [
        {
          "output_type": "stream",
          "name": "stdout",
          "text": [
            "enter the age:11\n",
            "person is not eligible for voting\n"
          ]
        }
      ]
    },
    {
      "cell_type": "code",
      "source": [
        "#number is divisible by 7 or not\n",
        "num=int(input('enter the number:'))\n",
        "if num%7==0:\n",
        "  print('number is divisible by 7')\n",
        "else:\n",
        "  print('number is not divisible by 7')"
      ],
      "metadata": {
        "colab": {
          "base_uri": "https://localhost:8080/"
        },
        "id": "akbIilSb0F6A",
        "outputId": "c3fdb458-7a57-4d7a-fec3-10d410cf4883"
      },
      "execution_count": null,
      "outputs": [
        {
          "output_type": "stream",
          "name": "stdout",
          "text": [
            "enter the number:21\n",
            "number is divisible by 7\n"
          ]
        }
      ]
    },
    {
      "cell_type": "code",
      "source": [
        "#display \"Hello\" if a number entered by user is a multiple of five , otherwise print \"Bye\n",
        "num=int(input('enter the number:'))\n",
        "if num%5==0:\n",
        "  print('Hello')\n",
        "else:\n",
        "  print('Bye')"
      ],
      "metadata": {
        "colab": {
          "base_uri": "https://localhost:8080/"
        },
        "id": "xHEahxzu0WZv",
        "outputId": "42ea8c7f-4ca6-4369-8ccd-ee7e63f3f235"
      },
      "execution_count": null,
      "outputs": [
        {
          "output_type": "stream",
          "name": "stdout",
          "text": [
            "enter the number:20\n",
            "Hello\n"
          ]
        }
      ]
    },
    {
      "cell_type": "markdown",
      "source": [
        "calculate the electricity bill (accept number of unit from user) according to the following criteria :\n",
        "             Unit                                                     Price  \n",
        "First 100 units                                               no charge\n",
        "Next 100 units                                              Rs 5 per unit\n",
        "After 200 units                                             Rs 10 per unit\n",
        "(For example if input unit is 350 than total bill amount is Rs2000)"
      ],
      "metadata": {
        "id": "0ciO3hE01v7c"
      }
    },
    {
      "cell_type": "code",
      "source": [
        "ebill=int(input('enter the number of units:'))\n",
        "if ebill<200 and ebill>100:\n",
        "  ebill-=100\n",
        "  charge=ebill*5\n",
        "  print('total bill amount=',charge)\n",
        "else:\n",
        "  ebill-=200\n",
        "  charge=500+ebill*10\n",
        "  print('total bill amount=',charge)"
      ],
      "metadata": {
        "colab": {
          "base_uri": "https://localhost:8080/"
        },
        "id": "-tU8nQxW1nCQ",
        "outputId": "4ff4c522-27e9-4f2c-9086-8df279202619"
      },
      "execution_count": null,
      "outputs": [
        {
          "output_type": "stream",
          "name": "stdout",
          "text": [
            "enter the number of units:350\n",
            "total bill amount= 2000\n"
          ]
        }
      ]
    },
    {
      "cell_type": "code",
      "source": [
        "#display the last digit of a number\n",
        "num=int(input('enter the number:'))\n",
        "print('last digit of number',num%10)"
      ],
      "metadata": {
        "colab": {
          "base_uri": "https://localhost:8080/"
        },
        "id": "MFDUIUIj2guZ",
        "outputId": "644b1c41-45a2-454e-8837-a885187abb73"
      },
      "execution_count": null,
      "outputs": [
        {
          "output_type": "stream",
          "name": "stdout",
          "text": [
            "enter the number:2\n",
            "last digit of number 2\n"
          ]
        }
      ]
    },
    {
      "cell_type": "code",
      "source": [
        "#check whether the last digit of a number( entered by user ) is divisible by 3 or not\n",
        "num=int(input('enter the number:'))\n",
        "num=num%10\n",
        "if num%3==0:\n",
        "  print('divisible')\n",
        "else:\n",
        "  print('not divisible')"
      ],
      "metadata": {
        "colab": {
          "base_uri": "https://localhost:8080/"
        },
        "id": "3syDwAh557-I",
        "outputId": "dca219dd-a69d-4afe-925e-97e60343fa4d"
      },
      "execution_count": null,
      "outputs": [
        {
          "output_type": "stream",
          "name": "stdout",
          "text": [
            "enter the number:27\n",
            "not divisible\n"
          ]
        }
      ]
    },
    {
      "cell_type": "markdown",
      "source": [
        "accept percentage from the user and display the grade according to the following criteria:\n",
        "\n",
        "         Marks                                    Grade\n",
        "         > 90                                         A\n",
        "         > 80 and <= 90                       B\n",
        "         >= 60 and <= 80                       C\n",
        "         below 60                                  D"
      ],
      "metadata": {
        "id": "JNy4IOO_7ImQ"
      }
    },
    {
      "cell_type": "code",
      "source": [
        "marks=int(input('enter the marks:'))\n",
        "if marks>90:\n",
        "  print('grade A')\n",
        "elif marks>80 and marks<=90:\n",
        "  print('grade B')\n",
        "elif marks>=60 and marks<=80:\n",
        "  print('grade C')\n",
        "else:\n",
        "  print('grade D')"
      ],
      "metadata": {
        "colab": {
          "base_uri": "https://localhost:8080/"
        },
        "id": "a9tzAfB96yaO",
        "outputId": "dcf4470e-f6cf-493e-cc8e-fdb95a443dc4"
      },
      "execution_count": null,
      "outputs": [
        {
          "output_type": "stream",
          "name": "stdout",
          "text": [
            "enter the marks:55\n",
            "grade D\n"
          ]
        }
      ]
    },
    {
      "cell_type": "markdown",
      "source": [
        "accept the cost price of a bike and display the road tax to be paid according to the following criteria :\n",
        "    \n",
        "        Cost price (in Rs)                                       Tax\n",
        "        > 100000                                                  15 %\n",
        "        > 50000 and <= 100000                          10%\n",
        "        <= 50000                                                  5%"
      ],
      "metadata": {
        "id": "S6LUrZ5H8lio"
      }
    },
    {
      "cell_type": "code",
      "source": [
        "bcost=int(input('enter the cost  of the bike:'))\n",
        "if bcost>100000:\n",
        "  print('road tax to be paid:',bcost*0.15)\n",
        "elif bcost>50000 and bcost<=100000:\n",
        "  print('road tax to be paid:',bcost*0.10)\n",
        "else:\n",
        "  print('road tax to be paid:',bcost*0.5)\n"
      ],
      "metadata": {
        "colab": {
          "base_uri": "https://localhost:8080/"
        },
        "id": "YbLXjjlx8EC7",
        "outputId": "2de1619b-76d1-4971-8d0d-b544c7eafa1b"
      },
      "execution_count": null,
      "outputs": [
        {
          "output_type": "stream",
          "name": "stdout",
          "text": [
            "enter the cost  of the bike:125000\n",
            "road tax to be paid: 18750.0\n"
          ]
        }
      ]
    },
    {
      "cell_type": "code",
      "source": [
        "#accept a number from 1 to 7 and display the name of the day like 1 for Sunday , 2 for Monday and so on\n",
        "num=int(input('enter the number between 1 to 7: '))\n",
        "if num==1:\n",
        "    print(\"Sunday\")\n",
        "elif num==2:\n",
        "    print(\"Monday\")\n",
        "elif num==3:\n",
        "    print(\"Tuesday\")\n",
        "elif num==4:\n",
        "   print(\"Wednesday\")\n",
        "elif num==5:\n",
        "   print(\"Thursday\")\n",
        "elif num==6:\n",
        "   print(\"Friday\")\n",
        "elif num==7:\n",
        "   print(\"Saturday\")\n",
        "else:\n",
        "   print(\"Please enter number between 1 to 7\")\n"
      ],
      "metadata": {
        "colab": {
          "base_uri": "https://localhost:8080/"
        },
        "id": "kw2Vev4m9qaZ",
        "outputId": "841504af-a883-4057-d698-405f30bacb61"
      },
      "execution_count": null,
      "outputs": [
        {
          "output_type": "stream",
          "name": "stdout",
          "text": [
            "enter the number between 1 to 7: 7\n",
            "Saturday\n"
          ]
        }
      ]
    },
    {
      "cell_type": "code",
      "source": [
        "# find the lowest number out of two numbers excepted from user\n",
        "num1,num2=map(int,input('enter the numbers:').split())\n",
        "if num1>num2:\n",
        "  print('lowest number is:',num2)\n",
        "else:\n",
        "  print('lowest number is:',num1)"
      ],
      "metadata": {
        "colab": {
          "base_uri": "https://localhost:8080/"
        },
        "id": "VqT9HEYI_gSU",
        "outputId": "610efe2d-639f-45ac-9fa8-72843a222c71"
      },
      "execution_count": null,
      "outputs": [
        {
          "output_type": "stream",
          "name": "stdout",
          "text": [
            "enter the numbers:3 1\n",
            "lowest number is: 1\n"
          ]
        }
      ]
    },
    {
      "cell_type": "code",
      "source": [
        "#check whether a number entered is three digit number or not\n",
        "num=int(input('enter the number:'))\n",
        "if num>=100 and num<=999:\n",
        "  print('number is three digit number')\n",
        "else:\n",
        "  print('number is not three digit number')"
      ],
      "metadata": {
        "colab": {
          "base_uri": "https://localhost:8080/"
        },
        "id": "7lrTV1yaO547",
        "outputId": "ada02667-ee70-4497-8f5d-80c64492be48"
      },
      "execution_count": null,
      "outputs": [
        {
          "output_type": "stream",
          "name": "stdout",
          "text": [
            "enter the number:333\n",
            "number is three digit number\n"
          ]
        }
      ]
    },
    {
      "cell_type": "code",
      "source": [
        "#Accept the age of 4 people and display the youngest one\n",
        "age1,age2,age3,age4=map(int,input('enter the ages:').split())\n",
        "if age1<age2 and age1<age3 and age1<age4:\n",
        "  print('youngest one is ',age1)\n",
        "elif age2<age1 and age2<age3 and age2<age4:\n",
        "  print('youngest one is ',age2)\n",
        "elif age3<age1 and age3<age2 and age3<age4:\n",
        "  print('youngest one is ',age3)\n",
        "else:\n",
        "  print('youngest one is ',age4)"
      ],
      "metadata": {
        "colab": {
          "base_uri": "https://localhost:8080/"
        },
        "id": "wurK8UMmPv44",
        "outputId": "72597923-4660-4805-9ca1-f93149de3d73"
      },
      "execution_count": null,
      "outputs": [
        {
          "output_type": "stream",
          "name": "stdout",
          "text": [
            "enter the ages:4 3 2 1\n",
            "youngest one is  1\n"
          ]
        }
      ]
    },
    {
      "cell_type": "code",
      "source": [
        "a = 1\n",
        "b = 3\n",
        "print('a > b') if a>b else print(a<b)"
      ],
      "metadata": {
        "id": "50ZqjukJRar2",
        "colab": {
          "base_uri": "https://localhost:8080/"
        },
        "outputId": "c1af6d7d-1a3b-4b3f-f9b9-0f539067550a"
      },
      "execution_count": null,
      "outputs": [
        {
          "output_type": "stream",
          "name": "stdout",
          "text": [
            "True\n"
          ]
        }
      ]
    },
    {
      "cell_type": "code",
      "source": [
        "a = 5\n",
        "b = 3\n",
        "result = 'a > b' if a>b else a<b\n",
        "print(result)"
      ],
      "metadata": {
        "colab": {
          "base_uri": "https://localhost:8080/"
        },
        "id": "GQtjdd_DLWJq",
        "outputId": "af072843-4d3b-4802-fa93-3bec10ca0f0c"
      },
      "execution_count": null,
      "outputs": [
        {
          "output_type": "stream",
          "name": "stdout",
          "text": [
            "a > b\n"
          ]
        }
      ]
    },
    {
      "cell_type": "code",
      "source": [
        "num = int(input('enter the number:'))\n",
        "print('three digit number') if num<=999 and num>100 else print('not three digit number')"
      ],
      "metadata": {
        "colab": {
          "base_uri": "https://localhost:8080/"
        },
        "id": "RXQW9RZlMfMB",
        "outputId": "4136a26f-77ea-4ca6-c99a-6bc8309fbec8"
      },
      "execution_count": null,
      "outputs": [
        {
          "output_type": "stream",
          "name": "stdout",
          "text": [
            "enter the number:22\n",
            "not three digit number\n"
          ]
        }
      ]
    },
    {
      "cell_type": "code",
      "source": [
        ""
      ],
      "metadata": {
        "id": "PnCrUffZNW4X"
      },
      "execution_count": null,
      "outputs": []
    }
  ]
}